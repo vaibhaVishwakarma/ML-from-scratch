{
 "cells": [
  {
   "cell_type": "code",
   "execution_count": 1,
   "id": "bba26dfa",
   "metadata": {},
   "outputs": [],
   "source": [
    "import numpy as np\n",
    "import matplotlib.pyplot as plt\n",
    "from collections import Counter"
   ]
  },
  {
   "cell_type": "markdown",
   "id": "da9d492a",
   "metadata": {},
   "source": [
    "### Decision Tree Classifier\n",
    "![Decision Tree.png](https://raw.githubusercontent.com/vaibhaVishwakarma/ML-from-scratch/master/NoteBooks/Decision%20Tree.png)"
   ]
  },
  {
   "cell_type": "code",
   "execution_count": 2,
   "id": "f3c85480",
   "metadata": {},
   "outputs": [],
   "source": [
    "class Node:\n",
    "    def __init__(self , feature = None , threshold=None ,left = None , right = None , * , value = None):\n",
    "        self.feature = feature\n",
    "        self.threshold = threshold\n",
    "        self.left = left\n",
    "        self.right = right\n",
    "        self.value = value\n",
    "    \n",
    "    def is_leaf(self):\n",
    "        return self.value is not None\n",
    "    "
   ]
  },
  {
   "cell_type": "code",
   "execution_count": 3,
   "id": "2a8f7740",
   "metadata": {},
   "outputs": [],
   "source": [
    "class DecisionTreeClassifer:\n",
    "    # This tree is limited to - 2 child per node \n",
    "    \n",
    "    def __init__(self , min_samples_split = 2 , max_dept = 100 , n_features = None):\n",
    "        self.min_samples_split = min_samples_split\n",
    "        self.max_dept = max_dept\n",
    "        self.n_features = n_features\n",
    "        self.root = None\n",
    "    \n",
    "    def fit(self , X , y):\n",
    "        if(y.dtype == np.float_):\n",
    "            raise Exception(\"This implementation only supports Classification.\\nPassed target value is Numerical/Regression\")\n",
    "\n",
    "        _ , self.n_features = X.shape\n",
    "        self.root = self._grow_tree(X,y)\n",
    "    \n",
    "    def _grow_tree(self, X , y , depth = 0):\n",
    "        n_samples , n_features = X.shape\n",
    "        n_lables = len(np.unique(y))\n",
    "\n",
    "        #check stopping criteria\n",
    "        if (depth >= self.max_dept or n_lables == 1  or n_samples < self.min_samples_split):\n",
    "            leaf_value = self._most_common_label(y)\n",
    "            return Node(value = leaf_value)\n",
    "        \n",
    "\n",
    "        #revlevance with Random Forest, no use in simple tree.\n",
    "        feature_idxs = np.random.choice(n_features , self.n_features , replace=False)  #retures specified numbers of features (default = 1) only without repitition\n",
    "\n",
    "        best_feature , best_threshold = self._best_split(X , y , feature_idxs)\n",
    "\n",
    "        #create Child nodes and row level spliting\n",
    "        left_records_idxs , right_records_idxs = self._split(X[: , best_feature] , best_threshold)\n",
    "\n",
    "        if len(left_records_idxs) == 0 or len(right_records_idxs) == 0 :\n",
    "            leaf_value = self._most_common_label(y)\n",
    "            return Node(value = leaf_value)\n",
    "\n",
    "\n",
    "        left =  self._grow_tree( X[left_records_idxs , :  ] , y[left_records_idxs], depth+1) \n",
    "        right = self._grow_tree( X[right_records_idxs , : ] , y[right_records_idxs], depth+1)\n",
    "\n",
    "        return Node(feature = best_feature,\n",
    "                    threshold = best_threshold,\n",
    "                    left = left,\n",
    "                    right = right)     \n",
    "    \n",
    "    def _best_split(self , X , y , feature_idxs):\n",
    "        best_gain = -1\n",
    "        split_idx  , split_threshold = 0 , 0\n",
    "\n",
    "        #iterate each feature to calculate the max values of these attributes\n",
    "        for feature_idx in feature_idxs:\n",
    "            feature_column = X[:, feature_idx]\n",
    "            thresholds = np.unique(feature_column)\n",
    "\n",
    "            for threshold in thresholds:\n",
    "                #get information gain\n",
    "                gain = self._information_gain(y , feature_column , threshold)\n",
    "\n",
    "                if gain > best_gain:\n",
    "                    best_gain = gain \n",
    "                    split_idx = feature_idx\n",
    "                    split_threshold = threshold\n",
    "\n",
    "        return split_idx , split_threshold\n",
    "        \n",
    "    def _information_gain(self, y , feature_column , threshold):\n",
    "        parent_entropy = self._entropy(y)\n",
    "\n",
    "        left_records_idxs , right_records_idxs = self._split(feature_column , threshold)\n",
    "\n",
    "        if len(left_records_idxs) == 0 or len(right_records_idxs) == 0 :\n",
    "            return 0\n",
    "\n",
    "        # calculate the weighted avg. entropy of children\n",
    "        n = len(y)\n",
    "        n_l , n_r = len(left_records_idxs) , len(right_records_idxs)\n",
    "        e_l , e_r = self._entropy(y[left_records_idxs]) , self._entropy(y[right_records_idxs])\n",
    "        child_entropy = (n_l/n)*e_l + (n_r/n)*e_r\n",
    "\n",
    "        information_gain = parent_entropy - child_entropy\n",
    "        return information_gain\n",
    "\n",
    "    def _entropy(self, y):\n",
    "        hist = np.bincount(y)\n",
    "        probability_set = hist / len(y)\n",
    "        return - np.sum([ ( probability * np.log(probability) ) for probability in probability_set])\n",
    "    \n",
    "    def _split(self, column , threshold):\n",
    "        left_rows = np.argwhere(column <= threshold).flatten() #[[1],[2]] -> [1 ,2]\n",
    "        right_rows = np.argwhere(column > threshold).flatten()\n",
    "        return left_rows , right_rows\n",
    "\n",
    "    def _most_common_label(self , y):\n",
    "        return Counter(y).most_common(1)[0][0] #gets most common key from [[val , freq]]\n",
    "    \n",
    "    def predict(self , X):\n",
    "        return  np.array([self._traverse_tree(record, self.root) for record in X])\n",
    "    \n",
    "    def _traverse_tree(self, x , node):\n",
    "        if node.is_leaf():\n",
    "            return node.value\n",
    "        \n",
    "        if x[node.feature] <= node.threshold:\n",
    "            return self._traverse_tree(x , node.left)\n",
    "        return self._traverse_tree(x , node.right)\n",
    "    "
   ]
  },
  {
   "cell_type": "code",
   "execution_count": 4,
   "id": "32a68d2a",
   "metadata": {},
   "outputs": [],
   "source": [
    "from sklearn import datasets\n",
    "from sklearn.model_selection import train_test_split\n",
    "from sklearn.metrics import accuracy_score\n",
    "from sklearn.tree import DecisionTreeClassifier as sk_DecisionTreeClassifier\n",
    "import warnings\n",
    "warnings.filterwarnings(\"ignore\", category=RuntimeWarning)"
   ]
  },
  {
   "cell_type": "code",
   "execution_count": 10,
   "id": "10046114",
   "metadata": {},
   "outputs": [
    {
     "name": "stdout",
     "output_type": "stream",
     "text": [
      "custom  Decision Tree accuracy: 95.6140350877193\n",
      "sklearn Decision Tree accuracy: 93.85964912280701\n",
      "\n",
      "custom  Decision Tree accuracy: 69.44444444444444\n",
      "sklearn Decision Tree accuracy: 94.44444444444444\n",
      "\n",
      "custom  Decision Tree accuracy: 50.0\n",
      "sklearn Decision Tree accuracy: 90.0\n",
      "\n"
     ]
    }
   ],
   "source": [
    "datasets_  = [datasets.load_breast_cancer() , datasets.load_wine() , datasets.load_iris()]\n",
    "for data in datasets_:\n",
    "    X , y = data.data , data.target\n",
    "    \n",
    "    X_train , X_test , y_train , y_test = train_test_split(X , y , test_size= 0.2 , shuffle = True , random_state=4444)\n",
    "    dt , sk_dt = DecisionTreeClassifer() , sk_DecisionTreeClassifier()\n",
    "\n",
    "    dt.fit(X_train , y_train)\n",
    "    sk_dt.fit(X_train , y_train)\n",
    "\n",
    "    print(f\"custom  Decision Tree accuracy: {100*accuracy_score(y_test , dt.predict(X_test))}\")\n",
    "    print(f\"sklearn Decision Tree accuracy: {100*accuracy_score(y_test , sk_dt.predict(X_test))}\\n\")"
   ]
  },
  {
   "cell_type": "markdown",
   "id": "3b1b7897",
   "metadata": {},
   "source": [
    "#### Rough"
   ]
  },
  {
   "cell_type": "code",
   "execution_count": 6,
   "id": "8d341c97",
   "metadata": {},
   "outputs": [
    {
     "data": {
      "text/plain": [
       "array([3, 4])"
      ]
     },
     "execution_count": 6,
     "metadata": {},
     "output_type": "execute_result"
    }
   ],
   "source": [
    "np.array([1,2,3,4,5])[[2,3]]"
   ]
  },
  {
   "cell_type": "code",
   "execution_count": 7,
   "id": "616f7d9e",
   "metadata": {},
   "outputs": [
    {
     "data": {
      "text/plain": [
       "array([0, 0, 0, 0])"
      ]
     },
     "execution_count": 7,
     "metadata": {},
     "output_type": "execute_result"
    }
   ],
   "source": [
    "np.isnan(X).sum(axis=0)"
   ]
  },
  {
   "cell_type": "code",
   "execution_count": 8,
   "id": "b9036936",
   "metadata": {},
   "outputs": [
    {
     "ename": "IndexError",
     "evalue": "list index out of range",
     "output_type": "error",
     "traceback": [
      "\u001b[1;31m---------------------------------------------------------------------------\u001b[0m",
      "\u001b[1;31mIndexError\u001b[0m                                Traceback (most recent call last)",
      "Cell \u001b[1;32mIn[8], line 1\u001b[0m\n\u001b[1;32m----> 1\u001b[0m \u001b[43mCounter\u001b[49m\u001b[43m(\u001b[49m\u001b[43m[\u001b[49m\u001b[43m]\u001b[49m\u001b[43m)\u001b[49m\u001b[38;5;241;43m.\u001b[39;49m\u001b[43mmost_common\u001b[49m\u001b[43m(\u001b[49m\u001b[38;5;241;43m1\u001b[39;49m\u001b[43m)\u001b[49m\u001b[43m[\u001b[49m\u001b[38;5;241;43m0\u001b[39;49m\u001b[43m]\u001b[49m\n",
      "\u001b[1;31mIndexError\u001b[0m: list index out of range"
     ]
    }
   ],
   "source": [
    "Counter([]).most_common(1)[0]"
   ]
  },
  {
   "cell_type": "code",
   "execution_count": null,
   "id": "7b1c2419",
   "metadata": {},
   "outputs": [
    {
     "data": {
      "text/plain": [
       "(array([ 4,  5,  6,  7,  8,  9, 10, 11, 14, 15, 16, 17, 18, 19, 24, 25, 26,\n",
       "        27, 28, 29], dtype=int64),\n",
       " array([ 0,  1,  2,  3, 12, 13, 20, 21, 22, 23], dtype=int64))"
      ]
     },
     "execution_count": 39,
     "metadata": {},
     "output_type": "execute_result"
    }
   ],
   "source": [
    "l , r  = dt._split(X[0,:] , 1.2)\n",
    "l,r"
   ]
  },
  {
   "cell_type": "code",
   "execution_count": null,
   "id": "6718ea71",
   "metadata": {},
   "outputs": [],
   "source": [
    "np.bincount([1,2,3,4,5,6,7])"
   ]
  },
  {
   "cell_type": "code",
   "execution_count": null,
   "id": "68d90390",
   "metadata": {},
   "outputs": [
    {
     "data": {
      "text/plain": [
       "array([161, 161, 149, 173, 172, 115, 162, 117, 164, 129])"
      ]
     },
     "execution_count": 9,
     "metadata": {},
     "output_type": "execute_result"
    }
   ],
   "source": [
    "np.random.choice(range(100,200),10,replace=True)\n"
   ]
  },
  {
   "cell_type": "code",
   "execution_count": null,
   "id": "626d75e7",
   "metadata": {},
   "outputs": [
    {
     "data": {
      "text/plain": [
       "array([0, 1, 2, 3, 4, 5], dtype=int64)"
      ]
     },
     "execution_count": 23,
     "metadata": {},
     "output_type": "execute_result"
    }
   ],
   "source": [
    "np.argwhere(np.array([float(1.22222),2,3,4,5,6])>1.1).flatten()"
   ]
  },
  {
   "cell_type": "code",
   "execution_count": null,
   "id": "0243fdc0",
   "metadata": {},
   "outputs": [
    {
     "data": {
      "text/plain": [
       "[4, 16, 16, 16, 16, 16]"
      ]
     },
     "execution_count": 19,
     "metadata": {},
     "output_type": "execute_result"
    }
   ],
   "source": [
    "arr = [1,2,3,3,4,4,4,4,4,5]\n",
    "[i**2 for i in arr if i%2 ==0]"
   ]
  },
  {
   "cell_type": "code",
   "execution_count": null,
   "id": "ee9950a6",
   "metadata": {},
   "outputs": [],
   "source": [
    "from collections import Counter\n",
    "cnt = Counter(arr)"
   ]
  },
  {
   "cell_type": "code",
   "execution_count": null,
   "id": "8afc8952",
   "metadata": {},
   "outputs": [],
   "source": []
  }
 ],
 "metadata": {
  "kernelspec": {
   "display_name": "base",
   "language": "python",
   "name": "python3"
  },
  "language_info": {
   "codemirror_mode": {
    "name": "ipython",
    "version": 3
   },
   "file_extension": ".py",
   "mimetype": "text/x-python",
   "name": "python",
   "nbconvert_exporter": "python",
   "pygments_lexer": "ipython3",
   "version": "3.12.3"
  }
 },
 "nbformat": 4,
 "nbformat_minor": 5
}
