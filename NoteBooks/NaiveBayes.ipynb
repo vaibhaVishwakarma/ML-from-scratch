{
 "cells": [
  {
   "cell_type": "markdown",
   "id": "ef2ae345",
   "metadata": {},
   "source": [
    "#### NaiveBayes probabilitstic prediction\n",
    "![Naive1.png](https://raw.githubusercontent.com/vaibhaVishwakarma/ML-from-scratch/master/NoteBooks/Naive1.png)\n",
    "![Naive2.png](https://raw.githubusercontent.com/vaibhaVishwakarma/ML-from-scratch/master/NoteBooks/Naive2.png)\n",
    "![Naive3.png](https://raw.githubusercontent.com/vaibhaVishwakarma/ML-from-scratch/master/NoteBooks/Naive3.png)"
   ]
  },
  {
   "cell_type": "code",
   "execution_count": 32,
   "id": "2405935a",
   "metadata": {},
   "outputs": [],
   "source": [
    "import numpy as np\n",
    "class NaiveBayes:\n",
    "    def __init__(self):\n",
    "        pass\n",
    "\n",
    "    def fit(self , X ,y):\n",
    "        n_samples , n_features = X.shape\n",
    "        self.classes = np.unique(y)\n",
    "        self.n_classes = len(self.classes)\n",
    "\n",
    "        self._mean = np.zeros((self.n_classes,n_features))\n",
    "        self._var = np.zeros((self.n_classes,n_features))\n",
    "        self._freq = np.zeros(self.n_classes)\n",
    "\n",
    "        for idx , _class in enumerate(self.classes):\n",
    "            _X = X[ y == _class]\n",
    "\n",
    "            self._mean[idx, :] = _X.mean(axis = 0) #feature wise mean\n",
    "            self._var[idx, :] = _X.var(axis = 0) \n",
    "            self._freq[idx] = _X.shape[0] / n_samples       \n",
    "        \n",
    "    def predict(self , X):\n",
    "        return np.array([ self._predict(x) for x in X ])\n",
    "    \n",
    "    def _predict(self , x):  #passed a row\n",
    "        probabilities = []\n",
    "\n",
    "        for idx , _class in enumerate(self.classes):\n",
    "            prior = np.log(self._freq[idx])\n",
    "            postiriors = np.sum(np.log(self._pdf(idx,x)))\n",
    "            probabilities.append(prior+postiriors)\n",
    "\n",
    "        return self.classes[np.argmax(probabilities)]\n",
    "    \n",
    "    def _pdf(self , class_index , record):\n",
    "        mean = self._mean[class_index, :]\n",
    "        variance = self._var[class_index , :]\n",
    "\n",
    "        numerator = np.exp(-((record-mean)**2)/(2*variance))\n",
    "        denominator = np.sqrt(2 * np.pi * variance)\n",
    "\n",
    "        return numerator/denominator\n",
    "\n",
    "\n",
    "        "
   ]
  },
  {
   "cell_type": "code",
   "execution_count": 59,
   "id": "0f32a2a0",
   "metadata": {},
   "outputs": [],
   "source": [
    "from sklearn import datasets\n",
    "from sklearn.model_selection import train_test_split\n",
    "data = datasets.load_breast_cancer()\n",
    "X , y = data.data , data.target\n",
    "\n",
    "X_train , X_test , y_train , y_test = train_test_split(X,y,\n",
    "                                                       train_size=0.2,\n",
    "                                                       shuffle=True,\n",
    "                                                       random_state=4444,\n",
    "                                                       )\n"
   ]
  },
  {
   "cell_type": "code",
   "execution_count": 60,
   "id": "8bff9350",
   "metadata": {},
   "outputs": [],
   "source": [
    "import warnings\n",
    "warnings.filterwarnings(\"ignore\" , category=RuntimeWarning)\n",
    "\n",
    "clf = NaiveBayes()\n",
    "clf.fit(X_train,y_train)\n",
    "preds = clf.predict(X_test)\n",
    "\n",
    "from sklearn.naive_bayes import GaussianNB\n",
    "sk_clf = GaussianNB()\n",
    "sk_clf.fit(X_train , y_train)\n",
    "sk_preds = clf.predict(X_test)"
   ]
  },
  {
   "cell_type": "code",
   "execution_count": 61,
   "id": "9c0910e2",
   "metadata": {},
   "outputs": [
    {
     "name": "stdout",
     "output_type": "stream",
     "text": [
      "Custom NB accuracy 94.2982456140351 \n",
      "Sklearn NB accuracy 94.2982456140351 \n"
     ]
    }
   ],
   "source": [
    "from sklearn.metrics import accuracy_score\n",
    "print(f\"Custom NB accuracy {100*accuracy_score(y_test , preds)} \")\n",
    "print(f\"Sklearn NB accuracy {100*accuracy_score(y_test , sk_preds)} \")"
   ]
  },
  {
   "cell_type": "code",
   "execution_count": 62,
   "id": "2b23a674",
   "metadata": {},
   "outputs": [
    {
     "name": "stdout",
     "output_type": "stream",
     "text": [
      "Custom NB Confusion Matrix \n",
      "[[14900  2000]\n",
      " [  600 28100]] \n",
      "\n",
      "Sklearn NB Confusion Matrix \n",
      "[[14900  2000]\n",
      " [  600 28100]] \n"
     ]
    }
   ],
   "source": [
    "from sklearn.metrics import confusion_matrix\n",
    "print(f\"Custom NB Confusion Matrix \\n{100*confusion_matrix(y_test , preds)} \\n\")\n",
    "print(f\"Sklearn NB Confusion Matrix \\n{100*confusion_matrix(y_test , sk_preds)} \")"
   ]
  },
  {
   "cell_type": "code",
   "execution_count": null,
   "id": "e00b7f30",
   "metadata": {},
   "outputs": [],
   "source": []
  }
 ],
 "metadata": {
  "kernelspec": {
   "display_name": "base",
   "language": "python",
   "name": "python3"
  },
  "language_info": {
   "codemirror_mode": {
    "name": "ipython",
    "version": 3
   },
   "file_extension": ".py",
   "mimetype": "text/x-python",
   "name": "python",
   "nbconvert_exporter": "python",
   "pygments_lexer": "ipython3",
   "version": "3.12.3"
  }
 },
 "nbformat": 4,
 "nbformat_minor": 5
}
